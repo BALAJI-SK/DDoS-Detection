{
 "cells": [
  {
   "cell_type": "code",
   "execution_count": 3,
   "metadata": {},
   "outputs": [],
   "source": [
    "import re\n",
    "import csv\n",
    "def fun(values):\n",
    "    data=[]\n",
    "    data.append(values[0])\n",
    "    data.append(values[1])\n",
    "    data.append(values[2])\n",
    "    data.append('6')\n",
    "    data.append(values[3].replace('(',''))\n",
    "    data.append('4')\n",
    "    data.append(values[10])\n",
    "    data.append(values[12])\n",
    "    data.append('28')\n",
    "    data.append('0')\n",
    "    return data\n",
    "def fun1(values):\n",
    "    data=[]\n",
    "    data.append(values[0])\n",
    "    data.append(values[1])\n",
    "    data.append(values[2])\n",
    "    data.append('6')\n",
    "    data.append(values[3].replace('(',''))\n",
    "    data.append('4')\n",
    "    data.append(values[9])\n",
    "    data.append(values[11])\n",
    "    data.append('28')\n",
    "    data.append('1')\n",
    "    return data\n",
    "with open('./log.txt') as f_input, open('output.csv', 'w', newline='') as f_output:\n",
    "    csv_output = csv.writer(f_output)\n",
    "    csv_output.writerow(['duration', 'Type' ,'mode','len', 'IP','len','src_IP','dst_IP','len','class'])\n",
    "    \n",
    "    for line in f_input:\n",
    "        res = re.search(\"^[0-9]\", line)\n",
    "        if res:\n",
    "           re_values = line.split(' ')\n",
    "           if re_values[8]=='Request' and len(re_values) >= 13 :\n",
    "                  csv_output.writerow(fun(re_values))\n",
    "           if re_values[8]=='Reply':\n",
    "                  csv_output.writerow(fun1(re_values))"
   ]
  }
 ],
 "metadata": {
  "kernelspec": {
   "display_name": "Python 3.10.5 64-bit",
   "language": "python",
   "name": "python3"
  },
  "language_info": {
   "codemirror_mode": {
    "name": "ipython",
    "version": 3
   },
   "file_extension": ".py",
   "mimetype": "text/x-python",
   "name": "python",
   "nbconvert_exporter": "python",
   "pygments_lexer": "ipython3",
   "version": "3.10.5"
  },
  "orig_nbformat": 4,
  "vscode": {
   "interpreter": {
    "hash": "ce1e244e258ab90781388c7694f238eb800755cd07700420753a248941f85d6a"
   }
  }
 },
 "nbformat": 4,
 "nbformat_minor": 2
}
